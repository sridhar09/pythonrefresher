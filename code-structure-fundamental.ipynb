{
 "cells": [
  {
   "cell_type": "markdown",
   "metadata": {},
   "source": [
    "<h3> Introduction </h3>\n",
    "\n",
    "This notebook is for refreshing basic python code structure concepts.Feel free to skip this section if you use python on a regular or semi-regular basis.\n",
    " Topics include :-\n",
    "  - Conditionals\n",
    "  - Iterations\n",
    "  - Context Manager"
   ]
  },
  {
   "cell_type": "markdown",
   "metadata": {},
   "source": [
    "<h3>Conditionals & Iterations (The basic building of any programming language)</h3>"
   ]
  },
  {
   "cell_type": "markdown",
   "metadata": {},
   "source": [
    "<h5>The if-elif-else ladder</h5>\n",
    "\n",
    "A basic python if elif else ladder looks like :\n",
    "```\n",
    "if condition:\n",
    "    statements\n",
    "elif condition:\n",
    "    statements\n",
    ".\n",
    ".\n",
    ".\n",
    "else:\n",
    "    statements\n",
    "```\n",
    "\n",
    "<i>Note : elif & else blocks are optional</i>"
   ]
  },
  {
   "cell_type": "code",
   "execution_count": 1,
   "metadata": {},
   "outputs": [
    {
     "name": "stdout",
     "output_type": "stream",
     "text": [
      "The random number is : 0\n",
      "Its a single digit number\n"
     ]
    }
   ],
   "source": [
    "#if-elif-else ladder example.\n",
    "\n",
    "import random\n",
    "number = random.randint(0,50) # Generates a random number between 0 and 50\n",
    "print(f\"The random number is : {number}\")\n",
    "if number < 10:\n",
    "    print(\"Its a single digit number\")\n",
    "elif 10 <= number < 25:\n",
    "    print(\"The number is in double digits but still a small number in the given range\")\n",
    "elif 25 <= number < 40:\n",
    "    print(\"The number is not a small number in the given range but not too large as well\")\n",
    "else:\n",
    "    print(\"It is a fairly large number in the given range\")"
   ]
  },
  {
   "cell_type": "markdown",
   "metadata": {},
   "source": [
    "<h5>Match Case (or switch case) in Python (<b>Supported in Python 3.10 & above only</b>)</h5>\n",
    "\n",
    "A basic python match case syntax looks like :\n",
    "```python3.10\n",
    "match argument:\n",
    "    case case1:\n",
    "        return value1\n",
    "    case case2:\n",
    "        return value2\n",
    "    case case3:\n",
    "        return value3\n",
    "    case _:\n",
    "        return defaultvalue\n",
    "```\n",
    "\n",
    "<i> The case _ or case default or case other is the default value if no other conditions are satisfied. In other words it is like the else keyword in the if-elif-else ladder </i>"
   ]
  },
  {
   "cell_type": "code",
   "execution_count": 2,
   "metadata": {},
   "outputs": [
    {
     "name": "stdout",
     "output_type": "stream",
     "text": [
      "The httpcode is 400\n",
      "Bad request\n"
     ]
    }
   ],
   "source": [
    "# Match case example\n",
    "\n",
    "def parse_http_status(httpcode):\n",
    "    print(f\"The httpcode is {httpcode}\")\n",
    "    match httpcode:\n",
    "        case 400:\n",
    "            return \"Bad request\"\n",
    "        case 401:\n",
    "            return \"Unauthorized\"\n",
    "        case 403:\n",
    "            return \"Forbidden\"\n",
    "        case 404:\n",
    "            return \"Not found\"\n",
    "\n",
    "result = parse_http_status(random.randint(400,404))\n",
    "print(result)"
   ]
  },
  {
   "cell_type": "markdown",
   "source": [
    "The match case in python is much more powerful, read more about it [this article](https://towardsdatascience.com/the-match-case-in-python-3-10-is-not-that-simple-f65b350bb025).\n",
    "TODO: Add a section for deepdive into match case in the repo"
   ],
   "metadata": {
    "collapsed": false
   }
  },
  {
   "cell_type": "markdown",
   "source": [
    "<h5>for loop (more like for each loop)</h5>\n",
    "\n",
    "The for loop in python works like a for each loop in most languages. It iterates through each item of any iterable.\n",
    "A basic python for loop looks like :\n",
    "```python\n",
    "for item in iterable:\n",
    "    statements\n",
    "```"
   ],
   "metadata": {
    "collapsed": false
   }
  },
  {
   "cell_type": "code",
   "execution_count": 3,
   "outputs": [
    {
     "name": "stdout",
     "output_type": "stream",
     "text": [
      "Apple is a delicious fruit\n",
      "Mango is a delicious fruit\n",
      "Banana is a delicious fruit\n"
     ]
    }
   ],
   "source": [
    "# Example of a for loop\n",
    "\n",
    "fruits = [\"Apple\", \"Mango\", \"Banana\"]\n",
    "\n",
    "for fruit_name in fruits:\n",
    "    print(f\"{fruit_name} is a delicious fruit\")"
   ],
   "metadata": {
    "collapsed": false
   }
  },
  {
   "cell_type": "markdown",
   "source": [
    "<h5>Range (for converting the for each into a classic for loop)</h5>\n",
    "\n",
    "A for loop in most languages looks like `for(i=0,i<=n,i=i+1)` where we set a iteration range that is 0 to n in this case & a increment value that is 1 in this case (set by `i = i +1`). We can use the range function in python to achieve something similar, it returns an iterable `Range` object.\n",
    "\n",
    "The signature of a range function is\n",
    "```\n",
    "range(initial_value: default is 0,final_value,increment: default is 1)\n",
    "#Therefore\n",
    "range(n) == range(0,n) == range(0,n,1)\n",
    "```\n",
    "where the final value is not inclusive."
   ],
   "metadata": {
    "collapsed": false
   }
  },
  {
   "cell_type": "code",
   "execution_count": 4,
   "outputs": [
    {
     "data": {
      "text/plain": "([0, 1, 2, 3, 4], [0, 1, 2, 3, 4, 5, 6, 7, 8, 9], [0, 2, 4, 6, 8])"
     },
     "execution_count": 4,
     "metadata": {},
     "output_type": "execute_result"
    }
   ],
   "source": [
    "#diffrent ways to invoke the range operator\n",
    "\n",
    "r1 = range(0,5)     # --> range of 0,1,2,3,4\n",
    "r2 = range(10)      # --> range of 0,1,2,3,4,5,6,7,8,9\n",
    "r3 = range(0,10,2)  # --> range of 0,2,4,6,8\n",
    "\n",
    "list(r1), list(r2), list(r3)  # list() function type casts range object into list object"
   ],
   "metadata": {
    "collapsed": false
   }
  },
  {
   "cell_type": "markdown",
   "source": [
    "We can use the range operator with for loops"
   ],
   "metadata": {
    "collapsed": false
   }
  },
  {
   "cell_type": "code",
   "execution_count": 5,
   "outputs": [
    {
     "name": "stdout",
     "output_type": "stream",
     "text": [
      "iteration value is : 1\n",
      "iteration value is : 4\n",
      "iteration value is : 7\n"
     ]
    }
   ],
   "source": [
    "# range with for loop - example 1\n",
    "\n",
    "for i in range(1,10,3):\n",
    "    print(f\"iteration value is : {i}\")"
   ],
   "metadata": {
    "collapsed": false
   }
  },
  {
   "cell_type": "markdown",
   "source": [
    "Sometimes, for some iterable its worth using the range for iterable"
   ],
   "metadata": {
    "collapsed": false
   }
  },
  {
   "cell_type": "code",
   "execution_count": 6,
   "outputs": [
    {
     "name": "stdout",
     "output_type": "stream",
     "text": [
      "Fruit no. 1 is apple\n",
      "Fruit no. 2 is mango\n",
      "Fruit no. 3 is banana\n"
     ]
    }
   ],
   "source": [
    "# range with for loop - example 2\n",
    "\n",
    "fruits = [\"apple\",\"mango\",\"banana\"]\n",
    "for i in range(0, len(fruits)):\n",
    "    print(f\"Fruit no. {i+1} is {fruits[i]}\")"
   ],
   "metadata": {
    "collapsed": false
   }
  },
  {
   "cell_type": "markdown",
   "source": [
    "<h5> While loop </h5>\n",
    "\n",
    "A basic python if elif else ladder looks like :\n",
    "```\n",
    "while condition:\n",
    "    statement\n",
    "```\n",
    "\n",
    "Some important keywords in while loop are :\n",
    "1. `break` -> terminates the loop entirely\n",
    "2. `continue` -> terminated the current loop iteration & executes the next iteration.\n",
    "<i> `break` & `continue` may be used with for loop as well </i>"
   ],
   "metadata": {
    "collapsed": false
   }
  },
  {
   "cell_type": "code",
   "execution_count": 7,
   "outputs": [
    {
     "name": "stdout",
     "output_type": "stream",
     "text": [
      "value of i is : 1\n",
      "value of i is : 2\n",
      "value of i is : 3\n",
      "value of i is : 4\n"
     ]
    }
   ],
   "source": [
    "#Simple brute while loop\n",
    "\n",
    "i = 1\n",
    "while i<5:\n",
    "    print(f\"value of i is : {i}\")\n",
    "    i += 1"
   ],
   "metadata": {
    "collapsed": false
   }
  },
  {
   "cell_type": "code",
   "execution_count": 8,
   "outputs": [
    {
     "name": "stdout",
     "output_type": "stream",
     "text": [
      "The number is 1\n",
      "The number is 3\n",
      "The number is 5\n",
      "The number is 7\n",
      "The number is 9\n"
     ]
    }
   ],
   "source": [
    "#While loop with break & continue\n",
    "\n",
    "i = -1\n",
    "while True:\n",
    "    i += 1\n",
    "    if i % 2 == 0:\n",
    "        continue\n",
    "    if i > 10:\n",
    "        break\n",
    "    print(f\"The number is {i}\")\n"
   ],
   "metadata": {
    "collapsed": false
   }
  },
  {
   "cell_type": "markdown",
   "source": [
    "<h5>The optional else with loops</h5>\n",
    "\n",
    "Both for & while loop support an else block will be executed if we don’t exit the loop in any way other than its natural way. So, no break statements, no return statement, or no exceptions being raised inside the loop.\n",
    "\n",
    "```\n",
    "for item in iterable:\n",
    "    statement\n",
    "else:\n",
    "    exit statement\n",
    "```\n",
    "\n",
    "```\n",
    "while condition\n",
    "    statement\n",
    "else\n",
    "    exit statement\n",
    "```"
   ],
   "metadata": {
    "collapsed": false
   }
  },
  {
   "cell_type": "code",
   "execution_count": 12,
   "outputs": [
    {
     "name": "stdout",
     "output_type": "stream",
     "text": [
      "The element mango present in the list at position 2\n",
      "The element guava is not present in the list\n"
     ]
    }
   ],
   "source": [
    "# Else with loop example\n",
    "\n",
    "def search(find, iterable):\n",
    "    index = 0\n",
    "    while index < len(iterable):\n",
    "        if iterable[index] == find:\n",
    "            print(f\"The element {find} present in the list at position {index+1}\")\n",
    "            break\n",
    "        index += 1\n",
    "    else:\n",
    "        print(f\"The element {find} is not present in the list\")\n",
    "\n",
    "fruits = [\"apple\", \"mango\", \"banana\"]\n",
    "\n",
    "search(\"mango\", fruits)\n",
    "search(\"guava\", fruits)"
   ],
   "metadata": {
    "collapsed": false
   }
  }
 ],
 "metadata": {
  "kernelspec": {
   "display_name": "Python 3 (ipykernel)",
   "language": "python",
   "name": "python3"
  },
  "language_info": {
   "codemirror_mode": {
    "name": "ipython",
    "version": 3
   },
   "file_extension": ".py",
   "mimetype": "text/x-python",
   "name": "python",
   "nbconvert_exporter": "python",
   "pygments_lexer": "ipython3",
   "version": "3.9.6"
  }
 },
 "nbformat": 4,
 "nbformat_minor": 1
}
